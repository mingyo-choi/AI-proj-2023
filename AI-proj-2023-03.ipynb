import tensorflow.keras as keras
from tensorflow.keras import models
from tensorflow.keras import layers
from tensorflow.keras.datasets import mnist
import matplotlib.pyplot as plt

#Loading and preprocessing MNIST dataset
(X_train, y_train), (X_valid, y_valid) = mnist.load_data()
X_train = X_train.reshape(60000, 28, 28, 1).astype('float32')
X_valid = X_valid.reshape(10000, 28, 28, 1).astype('float32')
X_train /= 255
X_valid /= 255
n_classes = 10
y_train = keras.utils.to_categorical(y_train, n_classes)
y_valid = keras.utils.to_categorical(y_valid, n_classes)

#Define Residual block
def ResidualBlock(x, ch, k):
  y = layers.Conv2D(filters = ch, kernel_size = 3, strides = 1, padding = 'same')(x)
  y = layers.BatchNormalization()(y)
  y = layers.ReLU()(y)
  y = layers.Conv2D(filters = ch, kernel_size = 3, strides = 1, padding = 'same')(y)
  y = layers.BatchNormalization()(y)
  x = layers.Conv2D(filters = ch, kernel_size = 1, strides = 1, padding = 'same')(x)
  y = layers.Add()([y, x])
  y = layers.ReLU()(y)

  return y

#Define the whole network
def ResNet7():
  x = layers.Input(shape = (28, 28, 1))
  y = layers.Conv2D(filters = 16, kernel_size = 7, strides = 2, activation = 'relu', padding = 'same')(x)
  y = ResidualBlock(y, 32, 3)
  y = layers.MaxPool2D(pool_size = (2, 2), strides = 2)(y)
  y = ResidualBlock(y, 64, 3)
  y = layers.MaxPool2D(pool_size = (2, 2), strides = 2)(y)
  y = layers.Flatten()(y)
  y = layers.Dense(100, activation = 'relu')(y)
  y = layers.Dense(10, activation = 'softmax')(y)

  model = models.Model(inputs=x, outputs=y)
  model.compile(loss='categorical_crossentropy', optimizer = keras.optimizers.Adam(), metrics = ['accuracy'])

  return model


model = ResNet7()

#Training loop
history = model.fit(
    X_train, 
    y_train, 
    batch_size = 256, 
    epochs = 20,
	  verbose = 1,
    validation_data=(X_valid, y_valid))

plt.plot(history.history['loss'])
plt.plot(history.history['val_loss'])
plt.title('Model loss')
plt.xlabel('Epoch')
plt.ylabel('Loss')
plt.legend(['Train', 'Test'], loc='upper left')
plt.show()
