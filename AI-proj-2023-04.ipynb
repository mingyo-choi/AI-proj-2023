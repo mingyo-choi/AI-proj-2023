import tensorflow as tf
from tensorflow.keras.datasets import imdb
from tensorflow.keras.preprocessing.sequence import pad_sequences
import re

#define multihead atteniton block
class MultiHeadAttention(tf.keras.layers.Layer):
    def __init__(self, embedding_dim, num_heads=8):
        super(MultiHeadAttention, self).__init__()
        self.embedding_dim = embedding_dim # d_model
        self.num_heads = num_heads

        self.ff_dim = embedding_dim // num_heads
        self.query_dense = tf.keras.layers.Dense(embedding_dim)
        self.key_dense = tf.keras.layers.Dense(embedding_dim)
        self.value_dense = tf.keras.layers.Dense(embedding_dim)
        self.ff = tf.keras.layers.Dense(embedding_dim)

    def scaled_dot_product_attention(self, query, key, value):
        matmul_query_key = tf.matmul(query, key, transpose_b=True)
        dk = tf.cast(tf.shape(key)[-1], tf.float32)
        x = matmul_query_key / tf.math.sqrt(dk)
        attention_weights = tf.nn.softmax(x, axis = -1)
        output = tf.matmul(attention_weights, value)
        return output, attention_weights

    def split_heads(self, x, batch_size):
        x = tf.reshape(x, (batch_size, -1, self.num_heads, self.ff_dim))
        return tf.transpose(x, perm=[0, 2, 1, 3])

    def call(self, inputs):
        batch_size = tf.shape(inputs)[0]

        query = self.query_dense(inputs)
        key = self.key_dense(inputs) 
        value = self.value_dense(inputs)

        query = self.split_heads(query, batch_size)  
        key = self.split_heads(key, batch_size)
        value = self.split_heads(value, batch_size)

        scaled_attention, _ = self.scaled_dot_product_attention(query, key, value) 
        scaled_attention = tf.transpose(scaled_attention, perm=[0, 2, 1, 3])  

        concat_attention = tf.reshape(scaled_attention, (batch_size, -1, self.embedding_dim))
        outputs = self.ff(concat_attention) 
        
        return outputs

#define transformer block
class TransformerBlock(tf.keras.layers.Layer):
    def __init__(self, embedding_dim, num_heads, dff, rate=0.1):
        super(TransformerBlock, self).__init__()
        self.att = MultiHeadAttention(embedding_dim, num_heads)
        self.ffn = tf.keras.Sequential(
            [tf.keras.layers.Dense(dff, activation="relu"),
             tf.keras.layers.Dense(embedding_dim),]
        )
        self.layernorm1 = tf.keras.layers.LayerNormalization(epsilon=1e-6)
        self.layernorm2 = tf.keras.layers.LayerNormalization(epsilon=1e-6)
        self.dropout1 = tf.keras.layers.Dropout(rate)
        self.dropout2 = tf.keras.layers.Dropout(rate)

    def call(self, inputs, training):

        attention_output = self.att(inputs) # 첫번째 서브층 : 멀티 헤드 어텐션
        attention_output = self.dropout1(attention_output, training=training)
        out1 = self.layernorm1(inputs + attention_output) # Add & Norm
        ffn_output = self.ffn(out1) # 두번째 서브층 : 포지션 와이즈 피드 포워드 신경망
        ffn_output = self.dropout2(ffn_output, training = training)
        outputs = self.layernorm2(out1 + ffn_output) # Add & Norm

        return outputs

#define token and position embedding
class TokenAndPositionEmbedding(tf.keras.layers.Layer):
    def __init__(self, max_len, vocab_size, embedding_dim):
        super(TokenAndPositionEmbedding, self).__init__()
        self.token_emb = tf.keras.layers.Embedding(vocab_size, embedding_dim)
        self.pos_emb = tf.keras.layers.Embedding(max_len, embedding_dim)

    def call(self, x):
        max_len = tf.shape(x)[-1]
        positions = tf.range(start=0, limit=max_len, delta=1)
        positions = self.pos_emb(positions)
        x = self.token_emb(x)
        outputs = x + positions
        return outputs

#dataset preparation
vocab_size = 20000  
max_len = 200  

(X_train, y_train), (X_test, y_test) = imdb.load_data(num_words=vocab_size)
print('Train review size : {}'.format(len(X_train)))
print('Test review size : {}'.format(len(X_test)))

#pad sequences
X_train = pad_sequences(X_train, maxlen=max_len)
X_test = pad_sequences(X_test, maxlen=max_len)

#define the whole model
def Transformer(embedding_dim, num_heads, dff):
  inputs = tf.keras.layers.Input(shape=(max_len,))
  embedding_layer = TokenAndPositionEmbedding(max_len, vocab_size, embedding_dim)
  x = embedding_layer(inputs)
  transformer_block = TransformerBlock(embedding_dim, num_heads, dff) 
  x = transformer_block(x)
  x = tf.keras.layers.GlobalAveragePooling1D()(x)
  x = tf.keras.layers.Dropout(0.1)(x)
  x = tf.keras.layers.Dense(20, activation="relu")(x)
  x = tf.keras.layers.Dropout(0.1)(x)
  outputs = tf.keras.layers.Dense(2, activation="softmax")(x) 
  return tf.keras.Model(inputs=inputs, outputs=outputs)

#instantiate model
embedding_dim = 32  # Embedding vector dim
num_heads = 2 
dff = 32  # hidden units of FCN

model = Transformer(embedding_dim, num_heads, dff)

#compile and train
model.compile("adam", "sparse_categorical_crossentropy", metrics=["accuracy"])
history = model.fit(X_train, y_train, batch_size=32, epochs=2, validation_data=(X_test, y_test))

print("Test accuracy: %.4f" % (model.evaluate(X_test, y_test)[1]))

#predict
word_to_index = imdb.get_word_index()
def sentiment_predict(model, new_sentence):
  new_sentence = re.sub('[^0-9a-zA-Z ]', '', new_sentence).lower()
  encoded = []

  for word in new_sentence.split():
    try :
      if word_to_index[word] <= 10000:
        encoded.append(word_to_index[word]+3)
      else:
        encoded.append(2)
    except KeyError:
      encoded.append(2)

  pad_sequence = pad_sequences([encoded], maxlen=max_len)
  score = float(model.predict(pad_sequence)[0][0])

  if(score > 0.5):
    print("{:.2f}% negative".format(score * 100))
  else:
    print("{:.2f}% positive".format((1 - score) * 100))

#이곳에 감상을 적으면 됨
text = "This movie was just way too overrated. \
        The fighting was not professional and in slow motion. \
        I was expecting more from a 200 million budget movie. \
        The little sister of T.Challa was just trying too hard to be funny. \
        The story was really dumb as well. \
        Don't watch this movie if you are going because others say its great \
        unless you are a Black Panther fan or Marvels fan."
sentiment_predict(model, text)

